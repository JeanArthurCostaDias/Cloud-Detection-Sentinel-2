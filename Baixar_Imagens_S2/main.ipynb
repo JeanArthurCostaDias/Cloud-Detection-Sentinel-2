{
 "cells": [
  {
   "cell_type": "code",
   "execution_count": 72,
   "metadata": {},
   "outputs": [],
   "source": [
    "import pandas as pd\n",
    "\n",
    "awa = pd.read_excel('./Sentinel2_Images_GCP.ods',header=None,sheet_name='AWA')\n",
    "hiwi = pd.read_excel('./Sentinel2_Images_GCP.ods',header=None,sheet_name='Hiwi')\n",
    "ybyra = pd.read_excel('./Sentinel2_Images_GCP.ods',header=None,sheet_name='Ybyra')\n",
    "itauba = pd.read_excel('./Sentinel2_Images_GCP.ods',header=None,sheet_name='Itaúba')\n",
    "ipoa = pd.read_excel('./Sentinel2_Images_GCP.ods',header=None,sheet_name='Ipoá')"
   ]
  },
  {
   "cell_type": "code",
   "execution_count": 73,
   "metadata": {},
   "outputs": [],
   "source": [
    "def get_url(l1c_link):\n",
    "    remove_last_timestamp = '_'.join(l1c_link.split('_')[0:-2])\n",
    "    split_url = remove_last_timestamp.split('/')[7:]\n",
    "    split_url.insert(0, 'gs://gcp-public-data-sentinel-2')\n",
    "    final_url = '/'.join(split_url).replace('L2A', 'L1C')\n",
    "    return final_url\n",
    "\n",
    "awa = awa.map(get_url).iloc[:10].to_csv('./L1C_links/awa.csv', index=False, header=False)\n",
    "hiwi = hiwi.map(get_url).iloc[:10].to_csv('./L1C_links/hiwi.csv', index=False, header=False)\n",
    "ybyra = ybyra.map(get_url).iloc[:10].to_csv('./L1C_links/ybyra.csv', index=False, header=False)\n",
    "itauba = itauba.map(get_url).iloc[:10].to_csv('./L1C_links/itauba.csv', index=False, header=False)\n",
    "ipoa = ipoa.map(get_url).iloc[:10].to_csv('./L1C_links/ipoa.csv', index=False, header=False)"
   ]
  }
 ],
 "metadata": {
  "kernelspec": {
   "display_name": "base",
   "language": "python",
   "name": "python3"
  },
  "language_info": {
   "codemirror_mode": {
    "name": "ipython",
    "version": 3
   },
   "file_extension": ".py",
   "mimetype": "text/x-python",
   "name": "python",
   "nbconvert_exporter": "python",
   "pygments_lexer": "ipython3",
   "version": "3.11.5"
  }
 },
 "nbformat": 4,
 "nbformat_minor": 2
}
